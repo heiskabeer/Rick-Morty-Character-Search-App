{
 "cells": [
  {
   "cell_type": "code",
   "execution_count": 2,
   "metadata": {},
   "outputs": [
    {
     "name": "stdout",
     "output_type": "stream",
     "text": [
      "Amount of characters found:  826\n"
     ]
    }
   ],
   "source": [
    "import requests\n",
    "import pandas as pd\n",
    "import json\n",
    "import time\n",
    "\n",
    "new_char_list = []\n",
    "\n",
    "url = f'https://rickandmortyapi.com/api/character/?page='\n",
    "try:\n",
    "    r = requests.get(url)\n",
    "    r.raise_for_status() #checks if the response is successful \n",
    "\n",
    "    data = r.json()\n",
    "    pages = data['info']['pages']\n",
    "\n",
    "\n",
    "    for x in range(1, (pages)+1):\n",
    "\n",
    "        r = requests.get(url + str(x))\n",
    "        r.raise_for_status()\n",
    "\n",
    "        data = r.json()\n",
    "\n",
    "        for character in data['results']:\n",
    "            \n",
    "            name = character['name']\n",
    "\n",
    "            gender = character['gender']\n",
    "\n",
    "            status = character['status']\n",
    "\n",
    "            species = character['species']\n",
    "\n",
    "            location = character['location']['name']\n",
    "\n",
    "            image = character['image']\n",
    "\n",
    "            episodes =character['episode']\n",
    "\n",
    "            n_episodes = str(len(episodes))\n",
    "\n",
    "            char_list = {\n",
    "            'Name': name,\n",
    "            'Gender': gender,\n",
    "            'Status': status,\n",
    "            'Species': species, \n",
    "            'Location': location,\n",
    "            'nEpisode_Appeared': n_episodes,\n",
    "            'Image': image\n",
    "            }\n",
    "            \n",
    "            new_char_list.append(char_list)\n",
    "        \n",
    "        # time.sleep(1) # sleep for 1 second before making the request for the next page \n",
    "\n",
    "\n",
    "except requests.exceptions.RequestException as e:\n",
    "    # Handle any request exception\n",
    "    print(\"An error occurred:\", e)\n",
    "\n",
    "except KeyError as e:\n",
    "    # Handle any key error when parsing the API response\n",
    "    print(\"Invalid response from API:\", e)\n",
    "\n",
    "    \n",
    "print('Amount of characters found: ', len(new_char_list))"
   ]
  },
  {
   "cell_type": "code",
   "execution_count": 3,
   "metadata": {},
   "outputs": [],
   "source": [
    "df = pd.DataFrame(new_char_list)\n",
    "df.to_csv('raw_ricky_morty.csv', index = False)"
   ]
  }
 ],
 "metadata": {
  "kernelspec": {
   "display_name": "base",
   "language": "python",
   "name": "python3"
  },
  "language_info": {
   "codemirror_mode": {
    "name": "ipython",
    "version": 3
   },
   "file_extension": ".py",
   "mimetype": "text/x-python",
   "name": "python",
   "nbconvert_exporter": "python",
   "pygments_lexer": "ipython3",
   "version": "3.9.12"
  },
  "orig_nbformat": 4
 },
 "nbformat": 4,
 "nbformat_minor": 2
}
